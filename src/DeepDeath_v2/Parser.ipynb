{
 "cells": [
  {
   "cell_type": "markdown",
   "metadata": {
    "deletable": true,
    "editable": true
   },
   "source": [
    "Parser"
   ]
  },
  {
   "cell_type": "code",
   "execution_count": 3,
   "metadata": {
    "collapsed": false,
    "deletable": true,
    "editable": true,
    "scrolled": true
   },
   "outputs": [],
   "source": [
    "with open (\"../data/VS15MORT.features\",'w') as out_file,open (\"../data/ent_axis.features\",'w') as out_file_2:\n",
    "    with open(\"../data/VS15MORT.DUSMCPUB\",'r') as in_file:\n",
    "        for line in in_file:\n",
    "            out_file.write(\"Sex:\"+line[68:69]+\"\\t\")\n",
    "             \n",
    "            age=-1\n",
    "            if (line[69] == '1'):\n",
    "                age=float(line[70:73])\n",
    "            elif (line[69]=='2'):\n",
    "                age=float(line[70:73])/12.0\n",
    "            elif (line[69]=='4'):\n",
    "                age=float(line[70:73])/365.25\n",
    "            elif (line[69]=='5'):\n",
    "                age=float(line[70:73])/24.0/365.25\n",
    "            elif (line[69]=='6'):\n",
    "                age=float(line[70:73])/60.0/24.0/365.25\n",
    "            elif (line[69]=='9'):\n",
    "                age=-1\n",
    "                #Age not started yet !\n",
    "            else:\n",
    "                assert False, \"Unknown age group!\"\n",
    "            \n",
    "            out_file.write(\"Age:\"+str(age)+\"\\t\")\n",
    "            \n",
    "            uc_icd_10 = line[145:149]\n",
    "            uc_385=line[149:152]\n",
    "            uc_113=line[153:156]\n",
    "            uc_39=line[159:161]\n",
    "            out_file.write (\"UC_ICD_10:\"+uc_icd_10+\"\\t\")\n",
    "            out_file.write (\"UC_385:\"+uc_385+\"\\t\")\n",
    "            out_file.write (\"UC_113:\"+uc_113+\"\\t\")\n",
    "            out_file.write (\"UC_39:\"+uc_39+\"\\t\")\n",
    "            \n",
    "            num_ent=int(line[162:164])\n",
    "            for ent_i in range(num_ent):\n",
    "                start=ent_i*7+164\n",
    "                out_file.write(\"Ent_\"+str(ent_i)+\":\"+line[start]+\"_\"+line[start+2:start+6]+\"\\t\")\n",
    "                if (num_ent>1):\n",
    "                    out_file_2.write(line[start+2:start+6])\n",
    "                    if (ent_i!=num_ent-1):\n",
    "                        out_file_2.write(\"\\t\")\n",
    "            if (num_ent>1):\n",
    "                out_file_2.write(\"\\n\")\n",
    "                \n",
    "            num_rec=int(line[340:342])\n",
    "            for rec_i in range(num_rec):\n",
    "                start=rec_i*5+343\n",
    "                out_file.write(\"Rec_\"+str(rec_i)+\":\"+line[start+1:start+4]+\"\\t\")\n",
    "                \n",
    "                \n",
    "                \n",
    "            race=line[448]\n",
    "            out_file.write(\"Race:\"+race+\"\\n\")\n",
    "            \n",
    "            "
   ]
  },
  {
   "cell_type": "code",
   "execution_count": null,
   "metadata": {
    "collapsed": true
   },
   "outputs": [],
   "source": []
  }
 ],
 "metadata": {
  "kernelspec": {
   "display_name": "Python 3",
   "language": "python",
   "name": "python3"
  },
  "language_info": {
   "codemirror_mode": {
    "name": "ipython",
    "version": 3
   },
   "file_extension": ".py",
   "mimetype": "text/x-python",
   "name": "python",
   "nbconvert_exporter": "python",
   "pygments_lexer": "ipython3",
   "version": "3.4.3"
  }
 },
 "nbformat": 4,
 "nbformat_minor": 2
}
